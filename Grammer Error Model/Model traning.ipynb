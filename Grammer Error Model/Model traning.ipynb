{
 "cells": [
  {
   "metadata": {},
   "cell_type": "code",
   "source": [
    "import pandas as pd\n",
    "import tensorflow as tf\n",
    "from sklearn.model_selection import train_test_split\n",
    "\n",
    "# Load the dataset and skip problematic rows\n",
    "try:\n",
    "    data = pd.read_csv('errors.csv', on_bad_lines='skip')\n",
    "except pd.errors.ParserError as e:\n",
    "    print(f\"ParserError: {e}\")\n",
    "    \n",
    "# Check the shape of the dataset\n",
    "print(f\"Shape of the dataset: {data.shape}\")\n",
    "\n",
    "# Check the column names\n",
    "print(f\"Column names: {data.columns}\")\n",
    "\n",
    "# Get a summary of the dataset\n",
    "print(data.info())\n",
    "\n",
    "# View the first few rows of the dataset\n",
    "print(data.head())\n",
    "\n",
    "# Check for missing values\n",
    "print(data.isnull().sum())\n",
    "\n",
    "# Drop rows with missing values\n",
    "data.dropna(subset=['Error Words', 'Words'], inplace=True)\n",
    "\n",
    "# Sample 500,000 data points from the dataset\n",
    "data = data.sample(n=500000, random_state=42)\n",
    "\n",
    "# Get descriptive statistics\n",
    "print(data.describe())\n",
    "\n",
    "# Get the number of unique values in each column\n",
    "print(data.nunique())\n",
    "\n",
    "# Prepare the tokenizer\n",
    "tokenizer = tf.keras.preprocessing.text.Tokenizer(char_level=True)\n",
    "tokenizer.fit_on_texts(data['Error Words'].astype(str).tolist() + data['Words'].astype(str).tolist())\n",
    "\n",
    "# Convert texts to sequences\n",
    "X_seq = tokenizer.texts_to_sequences(data['Error Words'].astype(str))\n",
    "y_seq = tokenizer.texts_to_sequences(data['Words'].astype(str))\n",
    "\n",
    "# Pad the sequences\n",
    "max_seq_length = max(max(len(seq) for seq in X_seq), max(len(seq) for seq in y_seq))\n",
    "X_seq_padded = tf.keras.preprocessing.sequence.pad_sequences(X_seq, maxlen=max_seq_length, padding='post')\n",
    "y_seq_padded = tf.keras.preprocessing.sequence.pad_sequences(y_seq, maxlen=max_seq_length, padding='post')\n",
    "\n",
    "# Split the data into training and testing sets\n",
    "X_train, X_test, y_train, y_test = train_test_split(X_seq_padded, y_seq_padded, test_size=0.1, random_state=42)\n"
   ],
   "id": "initial_id",
   "outputs": [],
   "execution_count": null
  },
  {
   "metadata": {},
   "cell_type": "code",
   "source": [
    "# Define the enhanced LSTM model\n",
    "model = tf.keras.Sequential([\n",
    "    tf.keras.layers.Embedding(input_dim=len(tokenizer.word_index) + 1, output_dim=256, input_length=max_seq_length),\n",
    "    tf.keras.layers.Bidirectional(tf.keras.layers.LSTM(512, return_sequences=True)),\n",
    "    tf.keras.layers.Dropout(0.5),\n",
    "    tf.keras.layers.Bidirectional(tf.keras.layers.LSTM(512, return_sequences=True)),\n",
    "    tf.keras.layers.LayerNormalization(),\n",
    "    tf.keras.layers.TimeDistributed(tf.keras.layers.Dense(len(tokenizer.word_index) + 1, activation='softmax'))\n",
    "])\n",
    "\n",
    "model.compile(optimizer='adam', loss='sparse_categorical_crossentropy', metrics=['accuracy'])\n",
    "\n",
    "# Print model summary\n",
    "model.summary()\n",
    "\n"
   ],
   "id": "d122bebf4ef15d91",
   "outputs": [],
   "execution_count": null
  },
  {
   "metadata": {},
   "cell_type": "code",
   "source": [
    "# Prepare target data for training (one-hot encoding)\n",
    "y_train_reshaped = y_train[..., tf.newaxis]\n",
    "y_test_reshaped = y_test[..., tf.newaxis]\n",
    "\n",
    "# Create data pipeline for efficient training\n",
    "def data_generator(X, y, batch_size):\n",
    "    dataset = tf.data.Dataset.from_tensor_slices((X, y))\n",
    "    dataset = dataset.shuffle(buffer_size=10000)\n",
    "    dataset = dataset.batch(batch_size)\n",
    "    dataset = dataset.prefetch(buffer_size=tf.data.experimental.AUTOTUNE)\n",
    "    return dataset\n",
    "\n",
    "batch_size = 1000\n",
    "train_dataset = data_generator(X_train, y_train_reshaped, batch_size)\n",
    "test_dataset = data_generator(X_test, y_test_reshaped, batch_size)\n",
    "\n",
    "# Train the model\n",
    "history = model.fit(train_dataset, epochs=20, validation_data=test_dataset)\n",
    "\n"
   ],
   "id": "eaa41e94a5a017c0",
   "outputs": [],
   "execution_count": null
  },
  {
   "metadata": {},
   "cell_type": "code",
   "source": [
    "# Evaluate the model\n",
    "loss, accuracy = model.evaluate(test_dataset)\n",
    "print(f\"Test Loss: {loss}\")\n",
    "print(f\"Test Accuracy: {accuracy}\")"
   ],
   "id": "f6ac6857de76947",
   "outputs": [],
   "execution_count": null
  },
  {
   "metadata": {},
   "cell_type": "code",
   "source": [
    "# Save the model in Keras format\n",
    "model.save('word_error_correction_model.h5')"
   ],
   "id": "5fc4d74f8124f2a3",
   "outputs": [],
   "execution_count": null
  }
 ],
 "metadata": {
  "kernelspec": {
   "display_name": "Python 3",
   "language": "python",
   "name": "python3"
  },
  "language_info": {
   "codemirror_mode": {
    "name": "ipython",
    "version": 2
   },
   "file_extension": ".py",
   "mimetype": "text/x-python",
   "name": "python",
   "nbconvert_exporter": "python",
   "pygments_lexer": "ipython2",
   "version": "2.7.6"
  }
 },
 "nbformat": 4,
 "nbformat_minor": 5
}
