{
 "cells": [
  {
   "metadata": {},
   "cell_type": "markdown",
   "source": "Import Libraries",
   "id": "2e00daec4f69982f"
  },
  {
   "metadata": {
    "jupyter": {
     "is_executing": true
    }
   },
   "cell_type": "code",
   "source": [
    "import json\n",
    "import pandas as pd\n",
    "import tensorflow as tf\n",
    "from sklearn.model_selection import train_test_split"
   ],
   "id": "13555deeaea38fef",
   "outputs": [],
   "execution_count": null
  },
  {
   "metadata": {},
   "cell_type": "markdown",
   "source": "Load and Preprocess Data",
   "id": "cd806399b409012b"
  },
  {
   "metadata": {
    "ExecuteTime": {
     "end_time": "2024-07-10T10:38:04.553518Z",
     "start_time": "2024-07-10T10:37:55.213915Z"
    }
   },
   "cell_type": "code",
   "source": [
    "# Load the dataset and skip problematic rows\n",
    "try:\n",
    "    data = pd.read_csv('errors.csv', sep=',', header=0, names=['Words', 'Error Words'], on_bad_lines='skip')\n",
    "    print(f\"Initial dataset size: {data.shape}\")\n",
    "    print(data.head())\n",
    "except pd.errors.ParserError as e:\n",
    "    print(f\"ParserError: {e}\")\n",
    "\n",
    "# Check for missing values in each column before dropping them\n",
    "print(f\"Missing values in 'Words' column: {data['Words'].isnull().sum()}\")\n",
    "print(f\"Missing values in 'Error Words' column: {data['Error Words'].isnull().sum()}\")\n",
    "\n",
    "# Drop rows with missing values in specific columns\n",
    "data.dropna(subset=['Error Words', 'Words'], inplace=True)\n",
    "print(f\"Dataset size after dropping missing values: {data.shape}\")\n"
   ],
   "id": "32b989cfcf78146c",
   "outputs": [
    {
     "name": "stdout",
     "output_type": "stream",
     "text": [
      "Initial dataset size: (13958760, 2)\n",
      "  Words Error Words\n",
      "0   aah        ahah\n",
      "1   aah        a ah\n",
      "2   aah         aqh\n",
      "3   aah           a\n",
      "4   aah        aaah\n",
      "Missing values in 'Words' column: 0\n",
      "Missing values in 'Error Words' column: 106\n",
      "Dataset size after dropping missing values: (13958654, 2)\n"
     ]
    }
   ],
   "execution_count": 22
  },
  {
   "metadata": {},
   "cell_type": "markdown",
   "source": "Apply Length Difference Filter",
   "id": "96ffae270f94d75d"
  },
  {
   "metadata": {
    "ExecuteTime": {
     "end_time": "2024-07-10T10:39:25.244168Z",
     "start_time": "2024-07-10T10:38:04.554526Z"
    }
   },
   "cell_type": "code",
   "source": [
    "# Filter rows based on length difference criteria\n",
    "def length_difference(row):\n",
    "    error_word_length = len(row['Error Words'])\n",
    "    correct_word_length = len(row['Words'])\n",
    "    if error_word_length < 3 or correct_word_length < 3:\n",
    "        return True\n",
    "    return abs(error_word_length - correct_word_length) / max(error_word_length, correct_word_length) <= 0.4\n",
    "\n",
    "data = data[data.apply(length_difference, axis=1)]\n",
    "print(f\"Dataset size after applying length difference filter: {data.shape}\")\n"
   ],
   "id": "8d597df16501d3e",
   "outputs": [
    {
     "name": "stdout",
     "output_type": "stream",
     "text": [
      "Dataset size after applying length difference filter: (13812475, 2)\n"
     ]
    }
   ],
   "execution_count": 23
  },
  {
   "metadata": {},
   "cell_type": "markdown",
   "source": "Sample Data if Necessary",
   "id": "68b4564e2a9a9ccd"
  },
  {
   "metadata": {
    "ExecuteTime": {
     "end_time": "2024-07-10T10:39:26.468484Z",
     "start_time": "2024-07-10T10:39:25.245177Z"
    }
   },
   "cell_type": "code",
   "source": [
    "# Sample 500,000 data points from the dataset if the dataset is large enough\n",
    "if len(data) > 500000:\n",
    "    data = data.sample(n=500000, random_state=42)\n",
    "    print(f\"Dataset size after sampling: {data.shape}\")\n",
    "    # Save the sampled data to a CSV file\n",
    "    data.to_csv('sampled_data.csv', index=False)\n",
    "    print(\"Sampled data saved to 'sampled_data.csv'.\")\n",
    "else:\n",
    "    print(f\"Dataset size is less than 500,000, not sampling: {data.shape}\")\n",
    "\n",
    "# Ensure there is data left after filtering\n",
    "if data.empty:\n",
    "    raise ValueError(\"No data left after filtering. Please check the filtering criteria.\")\n"
   ],
   "id": "aa6aa3833b28e15d",
   "outputs": [
    {
     "name": "stdout",
     "output_type": "stream",
     "text": [
      "Dataset size after sampling: (500000, 2)\n"
     ]
    }
   ],
   "execution_count": 24
  },
  {
   "metadata": {},
   "cell_type": "markdown",
   "source": "Tokenization and Sequence Conversion",
   "id": "54ea8ee1974a9a55"
  },
  {
   "metadata": {
    "ExecuteTime": {
     "end_time": "2024-07-10T10:39:34.315852Z",
     "start_time": "2024-07-10T10:39:26.470491Z"
    }
   },
   "cell_type": "code",
   "source": [
    "# Prepare the tokenizer\n",
    "tokenizer = tf.keras.preprocessing.text.Tokenizer(char_level=True)\n",
    "tokenizer.fit_on_texts(data['Error Words'].astype(str).tolist() + data['Words'].astype(str).tolist())\n",
    "\n",
    "# Save the tokenizer\n",
    "tokenizer_json = tokenizer.to_json()\n",
    "with open('tokenizer.json', 'w') as f:\n",
    "    f.write(tokenizer_json)\n",
    "\n",
    "# Save the maxlen\n",
    "maxlen = max(max(len(seq) for seq in tokenizer.texts_to_sequences(data['Error Words'].astype(str))),\n",
    "             max(len(seq) for seq in tokenizer.texts_to_sequences(data['Words'].astype(str))))\n",
    "with open('maxlen.txt', 'w') as f:\n",
    "    f.write(str(maxlen))\n",
    "\n",
    "# Convert texts to sequences\n",
    "X_seq = tokenizer.texts_to_sequences(data['Error Words'].astype(str))\n",
    "y_seq = tokenizer.texts_to_sequences(data['Words'].astype(str))\n",
    "\n",
    "# Calculate the maximum length of the sequences\n",
    "maxlen = max(max(len(seq) for seq in X_seq), max(len(seq) for seq in y_seq))\n",
    "print(f\"Calculated maximum sequence length for padding: {maxlen}\")\n",
    "\n",
    "# Pad the sequences\n",
    "X_seq_padded = tf.keras.preprocessing.sequence.pad_sequences(X_seq, maxlen=maxlen, padding='post')\n",
    "y_seq_padded = tf.keras.preprocessing.sequence.pad_sequences(y_seq, maxlen=maxlen, padding='post')\n"
   ],
   "id": "727fa8733d5c00ac",
   "outputs": [
    {
     "name": "stdout",
     "output_type": "stream",
     "text": [
      "Calculated maximum sequence length for padding: 20\n"
     ]
    }
   ],
   "execution_count": 25
  },
  {
   "metadata": {},
   "cell_type": "markdown",
   "source": "Split Data into Training and Testing Sets",
   "id": "3d8f7dc2ef6136ee"
  },
  {
   "metadata": {
    "ExecuteTime": {
     "end_time": "2024-07-10T10:39:34.443652Z",
     "start_time": "2024-07-10T10:39:34.316858Z"
    }
   },
   "cell_type": "code",
   "source": [
    "# Split the data into training and testing sets\n",
    "X_train, X_test, y_train, y_test = train_test_split(X_seq_padded, y_seq_padded, test_size=0.1, random_state=42)\n",
    "\n",
    "# Display shapes of the datasets to verify\n",
    "print(f\"X_train shape: {X_train.shape}\")\n",
    "print(f\"X_test shape: {X_test.shape}\")\n",
    "print(f\"y_train shape: {y_train.shape}\")\n",
    "print(f\"y_test shape: {y_test.shape}\")\n"
   ],
   "id": "fce830d96e28570f",
   "outputs": [
    {
     "name": "stdout",
     "output_type": "stream",
     "text": [
      "X_train shape: (450000, 20)\n",
      "X_test shape: (50000, 20)\n",
      "y_train shape: (450000, 20)\n",
      "y_test shape: (50000, 20)\n"
     ]
    }
   ],
   "execution_count": 26
  },
  {
   "metadata": {},
   "cell_type": "markdown",
   "source": "Define the Model",
   "id": "38cdfb7e0e2bd57d"
  },
  {
   "metadata": {
    "ExecuteTime": {
     "end_time": "2024-07-10T10:39:34.639711Z",
     "start_time": "2024-07-10T10:39:34.444661Z"
    }
   },
   "cell_type": "code",
   "source": [
    "# Define the enhanced LSTM model\n",
    "model = tf.keras.Sequential([\n",
    "    tf.keras.layers.Embedding(input_dim=len(tokenizer.word_index) + 1, output_dim=256, input_length=maxlen),\n",
    "    tf.keras.layers.Bidirectional(tf.keras.layers.LSTM(256, return_sequences=True)),\n",
    "    tf.keras.layers.Dropout(0.5),\n",
    "    tf.keras.layers.Bidirectional(tf.keras.layers.LSTM(256, return_sequences=True)),\n",
    "    tf.keras.layers.LayerNormalization(),\n",
    "    tf.keras.layers.TimeDistributed(tf.keras.layers.Dense(len(tokenizer.word_index) + 1, activation='softmax'))\n",
    "])\n",
    "\n",
    "model.compile(optimizer='adam', loss='sparse_categorical_crossentropy', metrics=['accuracy'])\n",
    "\n",
    "# Print model summary\n",
    "model.summary()\n"
   ],
   "id": "d45842567e228360",
   "outputs": [
    {
     "name": "stderr",
     "output_type": "stream",
     "text": [
      "C:\\Users\\PC\\PycharmProjects\\GrammerAI\\venv\\Lib\\site-packages\\keras\\src\\layers\\core\\embedding.py:90: UserWarning: Argument `input_length` is deprecated. Just remove it.\n",
      "  warnings.warn(\n"
     ]
    },
    {
     "data": {
      "text/plain": [
       "\u001B[1mModel: \"sequential\"\u001B[0m\n"
      ],
      "text/html": [
       "<pre style=\"white-space:pre;overflow-x:auto;line-height:normal;font-family:Menlo,'DejaVu Sans Mono',consolas,'Courier New',monospace\"><span style=\"font-weight: bold\">Model: \"sequential\"</span>\n",
       "</pre>\n"
      ]
     },
     "metadata": {},
     "output_type": "display_data"
    },
    {
     "data": {
      "text/plain": [
       "┏━━━━━━━━━━━━━━━━━━━━━━━━━━━━━━━━━┳━━━━━━━━━━━━━━━━━━━━━━━━┳━━━━━━━━━━━━━━━┓\n",
       "┃\u001B[1m \u001B[0m\u001B[1mLayer (type)                   \u001B[0m\u001B[1m \u001B[0m┃\u001B[1m \u001B[0m\u001B[1mOutput Shape          \u001B[0m\u001B[1m \u001B[0m┃\u001B[1m \u001B[0m\u001B[1m      Param #\u001B[0m\u001B[1m \u001B[0m┃\n",
       "┡━━━━━━━━━━━━━━━━━━━━━━━━━━━━━━━━━╇━━━━━━━━━━━━━━━━━━━━━━━━╇━━━━━━━━━━━━━━━┩\n",
       "│ embedding (\u001B[38;5;33mEmbedding\u001B[0m)           │ ?                      │   \u001B[38;5;34m0\u001B[0m (unbuilt) │\n",
       "├─────────────────────────────────┼────────────────────────┼───────────────┤\n",
       "│ bidirectional (\u001B[38;5;33mBidirectional\u001B[0m)   │ ?                      │   \u001B[38;5;34m0\u001B[0m (unbuilt) │\n",
       "├─────────────────────────────────┼────────────────────────┼───────────────┤\n",
       "│ dropout (\u001B[38;5;33mDropout\u001B[0m)               │ ?                      │   \u001B[38;5;34m0\u001B[0m (unbuilt) │\n",
       "├─────────────────────────────────┼────────────────────────┼───────────────┤\n",
       "│ bidirectional_1 (\u001B[38;5;33mBidirectional\u001B[0m) │ ?                      │   \u001B[38;5;34m0\u001B[0m (unbuilt) │\n",
       "├─────────────────────────────────┼────────────────────────┼───────────────┤\n",
       "│ layer_normalization             │ ?                      │   \u001B[38;5;34m0\u001B[0m (unbuilt) │\n",
       "│ (\u001B[38;5;33mLayerNormalization\u001B[0m)            │                        │               │\n",
       "├─────────────────────────────────┼────────────────────────┼───────────────┤\n",
       "│ time_distributed                │ ?                      │   \u001B[38;5;34m0\u001B[0m (unbuilt) │\n",
       "│ (\u001B[38;5;33mTimeDistributed\u001B[0m)               │                        │               │\n",
       "└─────────────────────────────────┴────────────────────────┴───────────────┘\n"
      ],
      "text/html": [
       "<pre style=\"white-space:pre;overflow-x:auto;line-height:normal;font-family:Menlo,'DejaVu Sans Mono',consolas,'Courier New',monospace\">┏━━━━━━━━━━━━━━━━━━━━━━━━━━━━━━━━━┳━━━━━━━━━━━━━━━━━━━━━━━━┳━━━━━━━━━━━━━━━┓\n",
       "┃<span style=\"font-weight: bold\"> Layer (type)                    </span>┃<span style=\"font-weight: bold\"> Output Shape           </span>┃<span style=\"font-weight: bold\">       Param # </span>┃\n",
       "┡━━━━━━━━━━━━━━━━━━━━━━━━━━━━━━━━━╇━━━━━━━━━━━━━━━━━━━━━━━━╇━━━━━━━━━━━━━━━┩\n",
       "│ embedding (<span style=\"color: #0087ff; text-decoration-color: #0087ff\">Embedding</span>)           │ ?                      │   <span style=\"color: #00af00; text-decoration-color: #00af00\">0</span> (unbuilt) │\n",
       "├─────────────────────────────────┼────────────────────────┼───────────────┤\n",
       "│ bidirectional (<span style=\"color: #0087ff; text-decoration-color: #0087ff\">Bidirectional</span>)   │ ?                      │   <span style=\"color: #00af00; text-decoration-color: #00af00\">0</span> (unbuilt) │\n",
       "├─────────────────────────────────┼────────────────────────┼───────────────┤\n",
       "│ dropout (<span style=\"color: #0087ff; text-decoration-color: #0087ff\">Dropout</span>)               │ ?                      │   <span style=\"color: #00af00; text-decoration-color: #00af00\">0</span> (unbuilt) │\n",
       "├─────────────────────────────────┼────────────────────────┼───────────────┤\n",
       "│ bidirectional_1 (<span style=\"color: #0087ff; text-decoration-color: #0087ff\">Bidirectional</span>) │ ?                      │   <span style=\"color: #00af00; text-decoration-color: #00af00\">0</span> (unbuilt) │\n",
       "├─────────────────────────────────┼────────────────────────┼───────────────┤\n",
       "│ layer_normalization             │ ?                      │   <span style=\"color: #00af00; text-decoration-color: #00af00\">0</span> (unbuilt) │\n",
       "│ (<span style=\"color: #0087ff; text-decoration-color: #0087ff\">LayerNormalization</span>)            │                        │               │\n",
       "├─────────────────────────────────┼────────────────────────┼───────────────┤\n",
       "│ time_distributed                │ ?                      │   <span style=\"color: #00af00; text-decoration-color: #00af00\">0</span> (unbuilt) │\n",
       "│ (<span style=\"color: #0087ff; text-decoration-color: #0087ff\">TimeDistributed</span>)               │                        │               │\n",
       "└─────────────────────────────────┴────────────────────────┴───────────────┘\n",
       "</pre>\n"
      ]
     },
     "metadata": {},
     "output_type": "display_data"
    },
    {
     "data": {
      "text/plain": [
       "\u001B[1m Total params: \u001B[0m\u001B[38;5;34m0\u001B[0m (0.00 B)\n"
      ],
      "text/html": [
       "<pre style=\"white-space:pre;overflow-x:auto;line-height:normal;font-family:Menlo,'DejaVu Sans Mono',consolas,'Courier New',monospace\"><span style=\"font-weight: bold\"> Total params: </span><span style=\"color: #00af00; text-decoration-color: #00af00\">0</span> (0.00 B)\n",
       "</pre>\n"
      ]
     },
     "metadata": {},
     "output_type": "display_data"
    },
    {
     "data": {
      "text/plain": [
       "\u001B[1m Trainable params: \u001B[0m\u001B[38;5;34m0\u001B[0m (0.00 B)\n"
      ],
      "text/html": [
       "<pre style=\"white-space:pre;overflow-x:auto;line-height:normal;font-family:Menlo,'DejaVu Sans Mono',consolas,'Courier New',monospace\"><span style=\"font-weight: bold\"> Trainable params: </span><span style=\"color: #00af00; text-decoration-color: #00af00\">0</span> (0.00 B)\n",
       "</pre>\n"
      ]
     },
     "metadata": {},
     "output_type": "display_data"
    },
    {
     "data": {
      "text/plain": [
       "\u001B[1m Non-trainable params: \u001B[0m\u001B[38;5;34m0\u001B[0m (0.00 B)\n"
      ],
      "text/html": [
       "<pre style=\"white-space:pre;overflow-x:auto;line-height:normal;font-family:Menlo,'DejaVu Sans Mono',consolas,'Courier New',monospace\"><span style=\"font-weight: bold\"> Non-trainable params: </span><span style=\"color: #00af00; text-decoration-color: #00af00\">0</span> (0.00 B)\n",
       "</pre>\n"
      ]
     },
     "metadata": {},
     "output_type": "display_data"
    }
   ],
   "execution_count": 27
  },
  {
   "metadata": {},
   "cell_type": "markdown",
   "source": "Create tf.data.Dataset for Efficient Data Loading",
   "id": "154cf43d1ac9bc20"
  },
  {
   "metadata": {
    "ExecuteTime": {
     "end_time": "2024-07-10T10:39:34.685377Z",
     "start_time": "2024-07-10T10:39:34.640720Z"
    }
   },
   "cell_type": "code",
   "source": [
    "# Convert sequences to tf.data.Dataset\n",
    "def create_dataset(X, y, batch_size=1024):\n",
    "    dataset = tf.data.Dataset.from_tensor_slices((X, y))\n",
    "    dataset = dataset.shuffle(buffer_size=10000).batch(batch_size).prefetch(tf.data.experimental.AUTOTUNE)\n",
    "    return dataset\n",
    "\n",
    "batch_size = 1024\n",
    "train_dataset = create_dataset(X_train, y_train, batch_size)\n",
    "test_dataset = create_dataset(X_test, y_test, batch_size)\n"
   ],
   "id": "a7bc6e6791c521d5",
   "outputs": [],
   "execution_count": 28
  },
  {
   "metadata": {},
   "cell_type": "markdown",
   "source": "Train the Model",
   "id": "4b3540b65c051950"
  },
  {
   "metadata": {
    "ExecuteTime": {
     "end_time": "2024-07-10T14:31:56.501414Z",
     "start_time": "2024-07-10T10:39:34.686384Z"
    }
   },
   "cell_type": "code",
   "source": [
    "# Callbacks for training\n",
    "early_stopping = tf.keras.callbacks.EarlyStopping(monitor='val_loss', patience=3, restore_best_weights=True)\n",
    "reduce_lr = tf.keras.callbacks.ReduceLROnPlateau(monitor='val_loss', factor=0.5, patience=2)\n",
    "\n",
    "# Train the model\n",
    "history = model.fit(train_dataset, validation_data=test_dataset, epochs=20, callbacks=[early_stopping, reduce_lr])\n"
   ],
   "id": "64aea6bddf4eeeb9",
   "outputs": [
    {
     "name": "stdout",
     "output_type": "stream",
     "text": [
      "Epoch 1/20\n",
      "\u001B[1m440/440\u001B[0m \u001B[32m━━━━━━━━━━━━━━━━━━━━\u001B[0m\u001B[37m\u001B[0m \u001B[1m733s\u001B[0m 2s/step - accuracy: 0.8143 - loss: 0.7691 - val_accuracy: 0.9176 - val_loss: 0.3343 - learning_rate: 0.0010\n",
      "Epoch 2/20\n",
      "\u001B[1m440/440\u001B[0m \u001B[32m━━━━━━━━━━━━━━━━━━━━\u001B[0m\u001B[37m\u001B[0m \u001B[1m687s\u001B[0m 2s/step - accuracy: 0.9192 - loss: 0.3267 - val_accuracy: 0.9284 - val_loss: 0.2767 - learning_rate: 0.0010\n",
      "Epoch 3/20\n",
      "\u001B[1m440/440\u001B[0m \u001B[32m━━━━━━━━━━━━━━━━━━━━\u001B[0m\u001B[37m\u001B[0m \u001B[1m685s\u001B[0m 2s/step - accuracy: 0.9276 - loss: 0.2813 - val_accuracy: 0.9335 - val_loss: 0.2496 - learning_rate: 0.0010\n",
      "Epoch 4/20\n",
      "\u001B[1m440/440\u001B[0m \u001B[32m━━━━━━━━━━━━━━━━━━━━\u001B[0m\u001B[37m\u001B[0m \u001B[1m684s\u001B[0m 2s/step - accuracy: 0.9319 - loss: 0.2584 - val_accuracy: 0.9369 - val_loss: 0.2341 - learning_rate: 0.0010\n",
      "Epoch 5/20\n",
      "\u001B[1m440/440\u001B[0m \u001B[32m━━━━━━━━━━━━━━━━━━━━\u001B[0m\u001B[37m\u001B[0m \u001B[1m703s\u001B[0m 2s/step - accuracy: 0.9355 - loss: 0.2409 - val_accuracy: 0.9391 - val_loss: 0.2228 - learning_rate: 0.0010\n",
      "Epoch 6/20\n",
      "\u001B[1m440/440\u001B[0m \u001B[32m━━━━━━━━━━━━━━━━━━━━\u001B[0m\u001B[37m\u001B[0m \u001B[1m686s\u001B[0m 2s/step - accuracy: 0.9380 - loss: 0.2286 - val_accuracy: 0.9412 - val_loss: 0.2136 - learning_rate: 0.0010\n",
      "Epoch 7/20\n",
      "\u001B[1m440/440\u001B[0m \u001B[32m━━━━━━━━━━━━━━━━━━━━\u001B[0m\u001B[37m\u001B[0m \u001B[1m688s\u001B[0m 2s/step - accuracy: 0.9403 - loss: 0.2179 - val_accuracy: 0.9427 - val_loss: 0.2074 - learning_rate: 0.0010\n",
      "Epoch 8/20\n",
      "\u001B[1m440/440\u001B[0m \u001B[32m━━━━━━━━━━━━━━━━━━━━\u001B[0m\u001B[37m\u001B[0m \u001B[1m690s\u001B[0m 2s/step - accuracy: 0.9422 - loss: 0.2096 - val_accuracy: 0.9439 - val_loss: 0.2008 - learning_rate: 0.0010\n",
      "Epoch 9/20\n",
      "\u001B[1m440/440\u001B[0m \u001B[32m━━━━━━━━━━━━━━━━━━━━\u001B[0m\u001B[37m\u001B[0m \u001B[1m688s\u001B[0m 2s/step - accuracy: 0.9437 - loss: 0.2027 - val_accuracy: 0.9448 - val_loss: 0.1984 - learning_rate: 0.0010\n",
      "Epoch 10/20\n",
      "\u001B[1m440/440\u001B[0m \u001B[32m━━━━━━━━━━━━━━━━━━━━\u001B[0m\u001B[37m\u001B[0m \u001B[1m690s\u001B[0m 2s/step - accuracy: 0.9452 - loss: 0.1964 - val_accuracy: 0.9456 - val_loss: 0.1952 - learning_rate: 0.0010\n",
      "Epoch 11/20\n",
      "\u001B[1m440/440\u001B[0m \u001B[32m━━━━━━━━━━━━━━━━━━━━\u001B[0m\u001B[37m\u001B[0m \u001B[1m691s\u001B[0m 2s/step - accuracy: 0.9464 - loss: 0.1906 - val_accuracy: 0.9464 - val_loss: 0.1918 - learning_rate: 0.0010\n",
      "Epoch 12/20\n",
      "\u001B[1m440/440\u001B[0m \u001B[32m━━━━━━━━━━━━━━━━━━━━\u001B[0m\u001B[37m\u001B[0m \u001B[1m693s\u001B[0m 2s/step - accuracy: 0.9477 - loss: 0.1855 - val_accuracy: 0.9471 - val_loss: 0.1892 - learning_rate: 0.0010\n",
      "Epoch 13/20\n",
      "\u001B[1m440/440\u001B[0m \u001B[32m━━━━━━━━━━━━━━━━━━━━\u001B[0m\u001B[37m\u001B[0m \u001B[1m701s\u001B[0m 2s/step - accuracy: 0.9489 - loss: 0.1807 - val_accuracy: 0.9476 - val_loss: 0.1882 - learning_rate: 0.0010\n",
      "Epoch 14/20\n",
      "\u001B[1m440/440\u001B[0m \u001B[32m━━━━━━━━━━━━━━━━━━━━\u001B[0m\u001B[37m\u001B[0m \u001B[1m710s\u001B[0m 2s/step - accuracy: 0.9499 - loss: 0.1763 - val_accuracy: 0.9484 - val_loss: 0.1866 - learning_rate: 0.0010\n",
      "Epoch 15/20\n",
      "\u001B[1m440/440\u001B[0m \u001B[32m━━━━━━━━━━━━━━━━━━━━\u001B[0m\u001B[37m\u001B[0m \u001B[1m728s\u001B[0m 2s/step - accuracy: 0.9510 - loss: 0.1721 - val_accuracy: 0.9486 - val_loss: 0.1863 - learning_rate: 0.0010\n",
      "Epoch 16/20\n",
      "\u001B[1m440/440\u001B[0m \u001B[32m━━━━━━━━━━━━━━━━━━━━\u001B[0m\u001B[37m\u001B[0m \u001B[1m709s\u001B[0m 2s/step - accuracy: 0.9518 - loss: 0.1685 - val_accuracy: 0.9487 - val_loss: 0.1863 - learning_rate: 0.0010\n",
      "Epoch 17/20\n",
      "\u001B[1m440/440\u001B[0m \u001B[32m━━━━━━━━━━━━━━━━━━━━\u001B[0m\u001B[37m\u001B[0m \u001B[1m685s\u001B[0m 2s/step - accuracy: 0.9528 - loss: 0.1651 - val_accuracy: 0.9486 - val_loss: 0.1847 - learning_rate: 0.0010\n",
      "Epoch 18/20\n",
      "\u001B[1m440/440\u001B[0m \u001B[32m━━━━━━━━━━━━━━━━━━━━\u001B[0m\u001B[37m\u001B[0m \u001B[1m699s\u001B[0m 2s/step - accuracy: 0.9537 - loss: 0.1617 - val_accuracy: 0.9488 - val_loss: 0.1854 - learning_rate: 0.0010\n",
      "Epoch 19/20\n",
      "\u001B[1m440/440\u001B[0m \u001B[32m━━━━━━━━━━━━━━━━━━━━\u001B[0m\u001B[37m\u001B[0m \u001B[1m696s\u001B[0m 2s/step - accuracy: 0.9544 - loss: 0.1585 - val_accuracy: 0.9490 - val_loss: 0.1855 - learning_rate: 0.0010\n",
      "Epoch 20/20\n",
      "\u001B[1m440/440\u001B[0m \u001B[32m━━━━━━━━━━━━━━━━━━━━\u001B[0m\u001B[37m\u001B[0m \u001B[1m697s\u001B[0m 2s/step - accuracy: 0.9563 - loss: 0.1511 - val_accuracy: 0.9499 - val_loss: 0.1831 - learning_rate: 5.0000e-04\n"
     ]
    }
   ],
   "execution_count": 29
  },
  {
   "metadata": {},
   "cell_type": "markdown",
   "source": "Visualize Training History",
   "id": "507b427a244b68ed"
  },
  {
   "metadata": {
    "ExecuteTime": {
     "end_time": "2024-07-10T15:13:55.968556Z",
     "start_time": "2024-07-10T15:13:51.976665Z"
    }
   },
   "cell_type": "code",
   "source": [
    "import matplotlib.pyplot as plt\n",
    "\n",
    "# Function to plot training history\n",
    "def plot_training_history(history):\n",
    "    # Extracting values from the history object\n",
    "    acc = history.history['accuracy']\n",
    "    val_acc = history.history['val_accuracy']\n",
    "    loss = history.history['loss']\n",
    "    val_loss = history.history['val_loss']\n",
    "    epochs = range(1, len(acc) + 1)\n",
    "\n",
    "    # Plotting accuracy\n",
    "    plt.figure(figsize=(12, 5))\n",
    "    plt.subplot(1, 2, 1)\n",
    "    plt.plot(epochs, acc, 'b', label='Training accuracy')\n",
    "    plt.plot(epochs, val_acc, 'r', label='Validation accuracy')\n",
    "    plt.title('Training and validation accuracy')\n",
    "    plt.xlabel('Epochs')\n",
    "    plt.ylabel('Accuracy')\n",
    "    plt.legend()\n",
    "\n",
    "    # Plotting loss\n",
    "    plt.subplot(1, 2, 2)\n",
    "    plt.plot(epochs, loss, 'b', label='Training loss')\n",
    "    plt.plot(epochs, val_loss, 'r', label='Validation loss')\n",
    "    plt.title('Training and validation loss')\n",
    "    plt.xlabel('Epochs')\n",
    "    plt.ylabel('Loss')\n",
    "    plt.legend()\n",
    "\n",
    "    plt.show()\n",
    "\n",
    "# Plot the training history\n",
    "plot_training_history(history)\n"
   ],
   "id": "f6ac6857de76947",
   "outputs": [
    {
     "data": {
      "text/plain": [
       "<Figure size 1200x500 with 2 Axes>"
      ],
      "image/png": "[encoded data removed]"
     },
     "metadata": {},
     "output_type": "display_data"
    }
   ],
   "execution_count": 30
  },
  {
   "metadata": {},
   "cell_type": "markdown",
   "source": "Evaluate the Model on the Test Set",
   "id": "de32303700e622d1"
  },
  {
   "metadata": {
    "ExecuteTime": {
     "end_time": "2024-07-10T15:14:24.252487Z",
     "start_time": "2024-07-10T15:13:59.957379Z"
    }
   },
   "cell_type": "code",
   "source": [
    "# Evaluate the model on the test set\n",
    "test_loss, test_accuracy = model.evaluate(test_dataset)\n",
    "print(f\"Test Loss: {test_loss}\")\n",
    "print(f\"Test Accuracy: {test_accuracy}\")\n"
   ],
   "id": "6062bd84b5c55dca",
   "outputs": [
    {
     "name": "stdout",
     "output_type": "stream",
     "text": [
      "\u001B[1m49/49\u001B[0m \u001B[32m━━━━━━━━━━━━━━━━━━━━\u001B[0m\u001B[37m\u001B[0m \u001B[1m24s\u001B[0m 495ms/step - accuracy: 0.9503 - loss: 0.1831\n",
      "Test Loss: 0.18308261036872864\n",
      "Test Accuracy: 0.949862003326416\n"
     ]
    }
   ],
   "execution_count": 31
  },
  {
   "metadata": {},
   "cell_type": "markdown",
   "source": "Save Model",
   "id": "10f16db9a3d0a0a6"
  },
  {
   "metadata": {
    "ExecuteTime": {
     "end_time": "2024-07-10T15:14:24.387172Z",
     "start_time": "2024-07-10T15:14:24.252487Z"
    }
   },
   "cell_type": "code",
   "source": [
    "# Save the model in Keras format\n",
    "model.save('word_error_correction_model.h5')"
   ],
   "id": "5fc4d74f8124f2a3",
   "outputs": [
    {
     "name": "stderr",
     "output_type": "stream",
     "text": [
      "WARNING:absl:You are saving your model as an HDF5 file via `model.save()` or `keras.saving.save_model(model)`. This file format is considered legacy. We recommend using instead the native Keras format, e.g. `model.save('my_model.keras')` or `keras.saving.save_model(model, 'my_model.keras')`. \n"
     ]
    }
   ],
   "execution_count": 32
  },
  {
   "metadata": {},
   "cell_type": "code",
   "outputs": [],
   "execution_count": null,
   "source": "",
   "id": "cef21659db4a7dd"
  }
 ],
 "metadata": {
  "kernelspec": {
   "display_name": "Python 3",
   "language": "python",
   "name": "python3"
  },
  "language_info": {
   "codemirror_mode": {
    "name": "ipython",
    "version": 2
   },
   "file_extension": ".py",
   "mimetype": "text/x-python",
   "name": "python",
   "nbconvert_exporter": "python",
   "pygments_lexer": "ipython2",
   "version": "2.7.6"
  }
 },
 "nbformat": 4,
 "nbformat_minor": 5
}
